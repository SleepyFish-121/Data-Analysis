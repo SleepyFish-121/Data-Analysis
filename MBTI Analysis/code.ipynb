{
 "cells": [
  {
   "cell_type": "code",
   "execution_count": 1,
   "id": "d81867d8",
   "metadata": {
    "collapsed": false,
    "jupyter": {
     "outputs_hidden": false
    },
    "pycharm": {
     "name": "#%%\n"
    }
   },
   "outputs": [],
   "source": [
    "import pandas as pd\n",
    "import numpy as np\n",
    "import matplotlib.pyplot as plt\n",
    "import seaborn as sns"
   ]
  },
  {
   "cell_type": "code",
   "execution_count": 2,
   "id": "de81140d",
   "metadata": {},
   "outputs": [],
   "source": [
    "df=pd.read_csv(\"mbti_1.csv\")"
   ]
  },
  {
   "cell_type": "code",
   "execution_count": 3,
   "id": "e0c110bb",
   "metadata": {},
   "outputs": [
    {
     "data": {
      "text/plain": "   type                                              posts\n0  INFJ  'http://www.youtube.com/watch?v=qsXHcwe3krw|||...\n1  ENTP  'I'm finding the lack of me in these posts ver...\n2  INTP  'Good one  _____   https://www.youtube.com/wat...\n3  INTJ  'Dear INTP,   I enjoyed our conversation the o...\n4  ENTJ  'You're fired.|||That's another silly misconce...",
      "text/html": "<div>\n<style scoped>\n    .dataframe tbody tr th:only-of-type {\n        vertical-align: middle;\n    }\n\n    .dataframe tbody tr th {\n        vertical-align: top;\n    }\n\n    .dataframe thead th {\n        text-align: right;\n    }\n</style>\n<table border=\"1\" class=\"dataframe\">\n  <thead>\n    <tr style=\"text-align: right;\">\n      <th></th>\n      <th>type</th>\n      <th>posts</th>\n    </tr>\n  </thead>\n  <tbody>\n    <tr>\n      <th>0</th>\n      <td>INFJ</td>\n      <td>'http://www.youtube.com/watch?v=qsXHcwe3krw|||...</td>\n    </tr>\n    <tr>\n      <th>1</th>\n      <td>ENTP</td>\n      <td>'I'm finding the lack of me in these posts ver...</td>\n    </tr>\n    <tr>\n      <th>2</th>\n      <td>INTP</td>\n      <td>'Good one  _____   https://www.youtube.com/wat...</td>\n    </tr>\n    <tr>\n      <th>3</th>\n      <td>INTJ</td>\n      <td>'Dear INTP,   I enjoyed our conversation the o...</td>\n    </tr>\n    <tr>\n      <th>4</th>\n      <td>ENTJ</td>\n      <td>'You're fired.|||That's another silly misconce...</td>\n    </tr>\n  </tbody>\n</table>\n</div>"
     },
     "execution_count": 3,
     "metadata": {},
     "output_type": "execute_result"
    }
   ],
   "source": [
    "df.head()"
   ]
  },
  {
   "cell_type": "code",
   "execution_count": 4,
   "id": "69ad23ee",
   "metadata": {},
   "outputs": [
    {
     "data": {
      "text/plain": "   type                                              posts IE NS TF JP\n0  INFJ  'http://www.youtube.com/watch?v=qsXHcwe3krw|||...  I  N  F  J\n1  ENTP  'I'm finding the lack of me in these posts ver...  E  N  T  P\n2  INTP  'Good one  _____   https://www.youtube.com/wat...  I  N  T  P\n3  INTJ  'Dear INTP,   I enjoyed our conversation the o...  I  N  T  J\n4  ENTJ  'You're fired.|||That's another silly misconce...  E  N  T  J",
      "text/html": "<div>\n<style scoped>\n    .dataframe tbody tr th:only-of-type {\n        vertical-align: middle;\n    }\n\n    .dataframe tbody tr th {\n        vertical-align: top;\n    }\n\n    .dataframe thead th {\n        text-align: right;\n    }\n</style>\n<table border=\"1\" class=\"dataframe\">\n  <thead>\n    <tr style=\"text-align: right;\">\n      <th></th>\n      <th>type</th>\n      <th>posts</th>\n      <th>IE</th>\n      <th>NS</th>\n      <th>TF</th>\n      <th>JP</th>\n    </tr>\n  </thead>\n  <tbody>\n    <tr>\n      <th>0</th>\n      <td>INFJ</td>\n      <td>'http://www.youtube.com/watch?v=qsXHcwe3krw|||...</td>\n      <td>I</td>\n      <td>N</td>\n      <td>F</td>\n      <td>J</td>\n    </tr>\n    <tr>\n      <th>1</th>\n      <td>ENTP</td>\n      <td>'I'm finding the lack of me in these posts ver...</td>\n      <td>E</td>\n      <td>N</td>\n      <td>T</td>\n      <td>P</td>\n    </tr>\n    <tr>\n      <th>2</th>\n      <td>INTP</td>\n      <td>'Good one  _____   https://www.youtube.com/wat...</td>\n      <td>I</td>\n      <td>N</td>\n      <td>T</td>\n      <td>P</td>\n    </tr>\n    <tr>\n      <th>3</th>\n      <td>INTJ</td>\n      <td>'Dear INTP,   I enjoyed our conversation the o...</td>\n      <td>I</td>\n      <td>N</td>\n      <td>T</td>\n      <td>J</td>\n    </tr>\n    <tr>\n      <th>4</th>\n      <td>ENTJ</td>\n      <td>'You're fired.|||That's another silly misconce...</td>\n      <td>E</td>\n      <td>N</td>\n      <td>T</td>\n      <td>J</td>\n    </tr>\n  </tbody>\n</table>\n</div>"
     },
     "execution_count": 4,
     "metadata": {},
     "output_type": "execute_result"
    }
   ],
   "source": [
    "df[\"IE\"]=df.apply(lambda type_:type_['type'][0],axis=1)\n",
    "df[\"NS\"]=df.apply(lambda type_:type_['type'][1],axis=1)\n",
    "df[\"TF\"]=df.apply(lambda type_:type_['type'][2],axis=1)\n",
    "df[\"JP\"]=df.apply(lambda type_:type_['type'][3],axis=1)\n",
    "\n",
    "df.head()"
   ]
  },
  {
   "cell_type": "code",
   "execution_count": 5,
   "id": "8d289830",
   "metadata": {},
   "outputs": [
    {
     "data": {
      "text/plain": "Counter({'INFJ': 1470,\n         'ENTP': 685,\n         'INTP': 1304,\n         'INTJ': 1091,\n         'ENTJ': 231,\n         'ENFJ': 190,\n         'INFP': 1832,\n         'ENFP': 675,\n         'ISFP': 271,\n         'ISTP': 337,\n         'ISFJ': 166,\n         'ISTJ': 205,\n         'ESTP': 89,\n         'ESFP': 48,\n         'ESTJ': 39,\n         'ESFJ': 42})"
     },
     "execution_count": 5,
     "metadata": {},
     "output_type": "execute_result"
    }
   ],
   "source": [
    "from collections import Counter\n",
    "Counter(list(df.type))"
   ]
  },
  {
   "cell_type": "code",
   "execution_count": 6,
   "id": "60f16b3a",
   "metadata": {},
   "outputs": [
    {
     "name": "stdout",
     "output_type": "stream",
     "text": [
      "{'I': 6676, 'E': 1999}\n",
      "{'N': 7478, 'S': 1197}\n",
      "{'F': 4694, 'T': 3981}\n",
      "{'J': 3434, 'P': 5241}\n"
     ]
    }
   ],
   "source": [
    "print(dict(Counter(list(df.IE))))\n",
    "print(dict(Counter(list(df.NS))))\n",
    "print(dict(Counter(list(df.TF))))\n",
    "print(dict(Counter(list(df.JP))))"
   ]
  },
  {
   "cell_type": "code",
   "execution_count": 7,
   "id": "50d7e782",
   "metadata": {},
   "outputs": [
    {
     "data": {
      "text/plain": "<AxesSubplot:xlabel='JP', ylabel='count'>"
     },
     "execution_count": 7,
     "metadata": {},
     "output_type": "execute_result"
    },
    {
     "data": {
      "text/plain": "<Figure size 432x288 with 4 Axes>",
      "image/png": "[encoded data removed]"
     },
     "metadata": {
      "needs_background": "light"
     },
     "output_type": "display_data"
    }
   ],
   "source": [
    "plt.subplot(331)\n",
    "sns.countplot(x='IE',data=df)\n",
    "plt.subplot(333)\n",
    "sns.countplot(x='NS',data=df)\n",
    "plt.subplot(337)\n",
    "sns.countplot(x='TF',data=df)\n",
    "plt.subplot(339)\n",
    "sns.countplot(x='JP',data=df)"
   ]
  },
  {
   "cell_type": "code",
   "execution_count": 8,
   "id": "be6b562c",
   "metadata": {},
   "outputs": [
    {
     "name": "stdout",
     "output_type": "stream",
     "text": [
      "NS     N    S\n",
      "IE           \n",
      "E   1781  218\n",
      "I   5697  979\n",
      "Between IE and NS, if ChiSqResult P<=0.05: True\n",
      "\n",
      "\n",
      "TF     F     T\n",
      "IE            \n",
      "E    955  1044\n",
      "I   3739  2937\n",
      "Between IE and TF, if ChiSqResult P<=0.05: True\n",
      "\n",
      "\n",
      "JP     J     P\n",
      "IE            \n",
      "E    502  1497\n",
      "I   2932  3744\n",
      "Between IE and JP, if ChiSqResult P<=0.05: True\n",
      "\n",
      "\n",
      "TF     F     T\n",
      "NS            \n",
      "N   4167  3311\n",
      "S    527   670\n",
      "Between NS and TF, if ChiSqResult P<=0.05: True\n",
      "\n",
      "\n",
      "JP     J     P\n",
      "NS            \n",
      "N   2982  4496\n",
      "S    452   745\n",
      "Between NS and JP, if ChiSqResult P<=0.05: False\n",
      "\n",
      "\n",
      "JP     J     P\n",
      "TF            \n",
      "F   1868  2826\n",
      "T   1566  2415\n",
      "Between TF and JP, if ChiSqResult P<=0.05: False\n",
      "\n",
      "\n"
     ]
    }
   ],
   "source": [
    "from scipy.stats import chi2_contingency\n",
    "for a in range(0,4):\n",
    "    for b in range(a+1,4):\n",
    "        df_2=df[[\"IE\",'NS','TF',\"JP\"]]\n",
    "        df_3=pd.crosstab(df_2[[\"IE\",'NS','TF',\"JP\"][a]],df_2[[\"IE\",'NS','TF',\"JP\"][b]])\n",
    "        print(df_3)\n",
    "        print(f'Between {[\"IE\",\"NS\",\"TF\",\"JP\"][a]} and {[\"IE\",\"NS\",\"TF\",\"JP\"][b]}, if ChiSqResult P<=0.05: {(chi2_contingency(df_3)[1])<=0.05}\\n\\n')"
   ]
  },
  {
   "cell_type": "code",
   "execution_count": 9,
   "id": "983b8222",
   "metadata": {},
   "outputs": [],
   "source": [
    "from sklearn.feature_extraction.text import TfidfVectorizer\n",
    "vectorizer=TfidfVectorizer(stop_words='english',max_df=0.9,min_df=0.2)\n",
    "X=vectorizer.fit_transform(df.posts)\n",
    "df_2=pd.DataFrame(X.toarray(),columns=vectorizer.get_feature_names())\n",
    "df=df.join(df_2,rsuffix=\"tf_idf\").drop([\"posts\"],axis=1)"
   ]
  },
  {
   "cell_type": "code",
   "execution_count": 10,
   "id": "44c655e3",
   "metadata": {},
   "outputs": [
    {
     "name": "stdout",
     "output_type": "stream",
     "text": [
      "Optimization terminated successfully.\n",
      "         Current function value: 0.328564\n",
      "         Iterations 7\n"
     ]
    }
   ],
   "source": [
    "X=df[df.columns[5:]]\n",
    "outcome=df[\"IE\"]==\"I\"\n",
    "\n",
    "import statsmodels.api as sm\n",
    "model=sm.Logit(outcome, X).fit()\n",
    "result=pd.DataFrame(np.array([model.pvalues.array,model.params.array]).T,columns=[\"p_value\",'coef'],index=model.pvalues.index)"
   ]
  },
  {
   "cell_type": "code",
   "execution_count": 11,
   "id": "7a135d95",
   "metadata": {},
   "outputs": [
    {
     "name": "stdout",
     "output_type": "stream",
     "text": [
      "The words that related to Extroversion most are ['enfp', 'entp', 'entj', 'enfj', 'ne', 'fun', 'working', 'friends', 'tell', 'questions', 'let', 'sound', 'guy', 'share', 'mom', 'definitely', 'new', 'poststf_idf', 'having', 'guys']\n",
      "\n",
      "The words that related to Introversion most are ['infp', 'infj', 'intp', 'intj', 'small', 'isfp', 'family', 'try', 'ni', 'infps', 'isfj', 'watching', 'watch', 'mind', 'asking', 'difficult', 'hate', 'istp', 'heard', 'haven']\n"
     ]
    }
   ],
   "source": [
    "print(f\"The words that related to Extroversion most are {list(result[result['p_value']<0.05].sort_values(['coef']).index[:20])}\")\n",
    "print()\n",
    "print(f\"The words that related to Introversion most are {list(result[result['p_value']<0.05].sort_values(['coef'],ascending=False).index[:20])}\")"
   ]
  },
  {
   "cell_type": "code",
   "execution_count": 12,
   "id": "f691ac94",
   "metadata": {},
   "outputs": [
    {
     "name": "stdout",
     "output_type": "stream",
     "text": [
      "Optimization terminated successfully.\n",
      "         Current function value: 0.233680\n",
      "         Iterations 8\n"
     ]
    }
   ],
   "source": [
    "X=df[df.columns[5:]]\n",
    "outcome=df[\"NS\"]==\"N\"\n",
    "\n",
    "import statsmodels.api as sm\n",
    "model=sm.Logit(outcome, X).fit()\n",
    "result=pd.DataFrame(np.array([model.pvalues.array,model.params.array]).T,columns=[\"p_value\",'coef'],index=model.pvalues.index)"
   ]
  },
  {
   "cell_type": "code",
   "execution_count": 13,
   "id": "ea48f73b",
   "metadata": {},
   "outputs": [
    {
     "name": "stdout",
     "output_type": "stream",
     "text": [
      "The words that related to Sensing most are ['isfp', 'istp', 'isfj', 'istj', 'haven', 'personality', 'fit', 'prefer', 'types', 'aren', 'sounds', 'talk', 'feelings', 'means', 'pretty', 'relate', 'fun', 'usually', 'stuff', 'typetf_idf']\n",
      "\n",
      "The words that related to Intuition most are ['intj', 'infp', 'infj', 'intp', 'infps', 'enfp', 'human', 'entp', 'world', 'times', 'share', 'writing', 'enfj', 'problems', 'head', 'idea', 'ideas', 'used', 'figure', 'strong']\n"
     ]
    }
   ],
   "source": [
    "print(f\"The words that related to Sensing most are {list(result[result['p_value']<0.05].sort_values(['coef']).index[:20])}\")\n",
    "print()\n",
    "print(f\"The words that related to Intuition most are {list(result[result['p_value']<0.05].sort_values(['coef'],ascending=False).index[:20])}\")"
   ]
  },
  {
   "cell_type": "code",
   "execution_count": 14,
   "id": "ccc69a60",
   "metadata": {},
   "outputs": [
    {
     "name": "stdout",
     "output_type": "stream",
     "text": [
      "Optimization terminated successfully.\n",
      "         Current function value: 0.354928\n",
      "         Iterations 7\n"
     ]
    }
   ],
   "source": [
    "X=df[df.columns[5:]]\n",
    "outcome=df[\"TF\"]==\"T\"\n",
    "\n",
    "import statsmodels.api as sm\n",
    "model=sm.Logit(outcome, X).fit()\n",
    "result=pd.DataFrame(np.array([model.pvalues.array,model.params.array]).T,columns=[\"p_value\",'coef'],index=model.pvalues.index)"
   ]
  },
  {
   "cell_type": "code",
   "execution_count": 15,
   "id": "a47f9e6e",
   "metadata": {},
   "outputs": [
    {
     "name": "stdout",
     "output_type": "stream",
     "text": [
      "The words that related to Feeling most are ['infp', 'infj', 'enfp', 'infps', 'feel', 'love', 'isfj', 'isfp', 'feeling', 'deep', 'wish', 'song', 'youtube', 'enfj', 'felt', 'kind', 'totally', 'happy', 'relate', 'true']\n",
      "\n",
      "The words that related to Thinking most are ['intp', 'intj', 'entp', 'female', 'istj', 'entj', 'istp', 'emotions', 'wrong', 'point', 'problem', 'interesting', 'care', 'enjoy', 'fun', 'depends', 'explain', 'mother', 'does', 'guess']\n"
     ]
    }
   ],
   "source": [
    "print(f\"The words that related to Feeling most are {list(result[result['p_value']<0.05].sort_values(['coef']).index[:20])}\")\n",
    "print()\n",
    "print(f\"The words that related to Thinking most are {list(result[result['p_value']<0.05].sort_values(['coef'],ascending=False).index[:20])}\")"
   ]
  },
  {
   "cell_type": "code",
   "execution_count": 16,
   "id": "4219747e",
   "metadata": {},
   "outputs": [
    {
     "name": "stdout",
     "output_type": "stream",
     "text": [
      "Optimization terminated successfully.\n",
      "         Current function value: 0.433370\n",
      "         Iterations 7\n"
     ]
    }
   ],
   "source": [
    "X=df[df.columns[5:]]\n",
    "outcome=df[\"JP\"]==\"J\"\n",
    "\n",
    "import statsmodels.api as sm\n",
    "model=sm.Logit(outcome, X).fit()\n",
    "result=pd.DataFrame(np.array([model.pvalues.array,model.params.array]).T,columns=[\"p_value\",'coef'],index=model.pvalues.index)"
   ]
  },
  {
   "cell_type": "code",
   "execution_count": 17,
   "id": "b229bde6",
   "metadata": {
    "pycharm": {
     "name": "#%%\n"
    }
   },
   "outputs": [
    {
     "name": "stdout",
     "output_type": "stream",
     "text": [
      "The words that related to Perceiving most are ['intp', 'infp', 'entp', 'enfp', 'ne', 'istp', 'infps', 'isfp', 'live', 'ideas', 'god', 'fun', 'different', 'came', 'sound', 'thought', 'started', 'pretty', 'crazy', 'com']\n",
      "\n",
      "The words that related to Judging most are ['infj', 'intj', 'ni', 'isfj', 'enfj', 'entj', 'close', 'istj', 'coming', 'asking', 'group', 'seeing', 'comes', 'problems', 'head', 'help', 'make', 'eyes', 'post', 'http']\n"
     ]
    }
   ],
   "source": [
    "print(f\"The words that related to Perceiving most are {list(result[result['p_value']<0.05].sort_values(['coef']).index[:20])}\")\n",
    "print()\n",
    "print(f\"The words that related to Judging most are {list(result[result['p_value']<0.05].sort_values(['coef'],ascending=False).index[:20])}\")"
   ]
  },
  {
   "cell_type": "code",
   "execution_count": 18,
   "outputs": [],
   "source": [
    "from sklearn.feature_extraction.text import TfidfVectorizer\n",
    "df=pd.read_csv(\"mbti_1.csv\")\n",
    "vectorizer=TfidfVectorizer(stop_words='english',max_df=0.9,min_df=0.2)\n",
    "X=vectorizer.fit_transform(df.posts)\n",
    "df_2=pd.DataFrame(X.toarray(),columns=vectorizer.get_feature_names())\n",
    "df=df.join(df_2,rsuffix=\"tf_idf\").drop([\"posts\"],axis=1)"
   ],
   "metadata": {
    "collapsed": false,
    "pycharm": {
     "name": "#%%\n"
    }
   }
  },
  {
   "cell_type": "code",
   "execution_count": 19,
   "outputs": [],
   "source": [
    "from scipy.stats import pearsonr"
   ],
   "metadata": {
    "collapsed": false,
    "pycharm": {
     "name": "#%%\n"
    }
   }
  },
  {
   "cell_type": "code",
   "execution_count": 20,
   "outputs": [
    {
     "data": {
      "text/plain": "(array([  2.,   0.,   0.,   0.,   0.,   0.,   0.,   0.,   0.,   1.,   1.,\n          7.,   4.,   3.,   1.,   7.,   7.,  11.,  10.,  14.,  18.,  20.,\n         20.,  30.,  34.,  43.,  55.,  55.,  60.,  64.,  80.,  72.,  95.,\n         98., 112., 121., 110., 122., 110., 124., 112., 116., 134., 129.,\n        128., 125., 126., 112., 108., 110., 132., 108.,  97., 110.,  99.,\n        104., 107.,  95.,  89.,  79., 103.,  82.,  75.,  49.,  65.,  57.,\n         66.,  55.,  51.,  53.,  56.,  41.,  40.,  41.,  36.,  30.,  40.,\n         28.,  21.,  20.,  17.,  13.,  31.,  15.,  16.,  16.,  16.,  16.,\n         15.,  13.,  10.,   5.,   6.,   8.,   7.,   7.,   6.,   3.,   4.,\n          3.]),\n array([-3.  , -2.94, -2.88, -2.82, -2.76, -2.7 , -2.64, -2.58, -2.52,\n        -2.46, -2.4 , -2.34, -2.28, -2.22, -2.16, -2.1 , -2.04, -1.98,\n        -1.92, -1.86, -1.8 , -1.74, -1.68, -1.62, -1.56, -1.5 , -1.44,\n        -1.38, -1.32, -1.26, -1.2 , -1.14, -1.08, -1.02, -0.96, -0.9 ,\n        -0.84, -0.78, -0.72, -0.66, -0.6 , -0.54, -0.48, -0.42, -0.36,\n        -0.3 , -0.24, -0.18, -0.12, -0.06,  0.  ,  0.06,  0.12,  0.18,\n         0.24,  0.3 ,  0.36,  0.42,  0.48,  0.54,  0.6 ,  0.66,  0.72,\n         0.78,  0.84,  0.9 ,  0.96,  1.02,  1.08,  1.14,  1.2 ,  1.26,\n         1.32,  1.38,  1.44,  1.5 ,  1.56,  1.62,  1.68,  1.74,  1.8 ,\n         1.86,  1.92,  1.98,  2.04,  2.1 ,  2.16,  2.22,  2.28,  2.34,\n         2.4 ,  2.46,  2.52,  2.58,  2.64,  2.7 ,  2.76,  2.82,  2.88,\n         2.94,  3.  ]),\n <BarContainer object of 100 artists>)"
     },
     "execution_count": 20,
     "metadata": {},
     "output_type": "execute_result"
    },
    {
     "data": {
      "text/plain": "<Figure size 432x288 with 1 Axes>",
      "image/png": "[encoded data removed]"
     },
     "metadata": {
      "needs_background": "light"
     },
     "output_type": "display_data"
    }
   ],
   "source": [
    "data=df.loc[np.logical_or(df['type']==\"ENFP\",df['type']==\"INFP\")].drop('type',axis=1)\n",
    "result_stat=[]\n",
    "result_p=[]\n",
    "for _ in range(5000):\n",
    "    sample=data.sample(40,axis=1)\n",
    "    stat, p = pearsonr(sample.iloc[0],sample.iloc[1])\n",
    "    result_stat.append(stat)\n",
    "\n",
    "result_stat=np.array(result_stat)\n",
    "result_p=np.array(result_p)\n",
    "plt.hist((result_stat-result_stat.mean())/result_stat.std(),bins=100,range=(-3,3))\n"
   ],
   "metadata": {
    "collapsed": false,
    "pycharm": {
     "name": "#%%\n"
    }
   }
  }
 ],
 "metadata": {
  "kernelspec": {
   "display_name": "Python 3 (ipykernel)",
   "language": "python",
   "name": "python3"
  },
  "language_info": {
   "codemirror_mode": {
    "name": "ipython",
    "version": 3
   },
   "file_extension": ".py",
   "mimetype": "text/x-python",
   "name": "python",
   "nbconvert_exporter": "python",
   "pygments_lexer": "ipython3",
   "version": "3.8.12"
  }
 },
 "nbformat": 4,
 "nbformat_minor": 5
}